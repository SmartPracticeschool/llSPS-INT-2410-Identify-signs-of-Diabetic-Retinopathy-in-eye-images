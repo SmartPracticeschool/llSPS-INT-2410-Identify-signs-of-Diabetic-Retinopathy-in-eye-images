{
 "cells": [
  {
   "cell_type": "code",
   "execution_count": null,
   "metadata": {},
   "outputs": [],
   "source": [
    "import glob\n",
    "import cv2\n",
    "import numpy as np\n",
    "import os \n",
    "from skimage.io import imread\n",
    "i = 1\n",
    "scale=300\n",
    "class_list=[\"0\",\"1\",\"2\",\"3\",\"4\"]\n",
    "for folder in range(5):\n",
    "    for root, dirs, files in os.walk(r\"D:/diabetic-retinopathy-detection/train/train/\"+str(class_list[folder])):\n",
    "        for file in files:\n",
    "            if file.endswith('.jpeg'):   \n",
    "                imgpath = root+\"/\"+file\n",
    "                img = cv2.imread(imgpath)\n",
    "                if img.size != 0:\n",
    "                    grey = cv2.cvtColor(img,cv2.COLOR_BGR2GRAY)\n",
    "                    _,th2 = cv2.threshold(grey,8,255,cv2.THRESH_BINARY)\n",
    "                    contours, hierarchy = cv2.findContours(th2,cv2.RETR_EXTERNAL,cv2.CHAIN_APPROX_SIMPLE)\n",
    "                    areas = [cv2.contourArea(contour) for contour in contours]\n",
    "                    max_index = np.argmax(areas)\n",
    "                    cnt = contours[max_index]\n",
    "                    x,y,w,h = cv2.boundingRect(cnt)\n",
    "                    # Ensure bounding rect should be at least 16:9 or taller\n",
    "                    if w / h > 16 / 9:\n",
    "                   # increase top and bottom margin\n",
    "                        newHeight = w / 16 * 9\n",
    "                        y = y - (newHeight - h ) / 2\n",
    "                        h = newHeight\n",
    "                # Crop with the largest rectangle\n",
    "                \n",
    "                    crop = img[int(y):int(y+h),int(x):int(x+w)] \n",
    "                    try:\n",
    "                        img = cv2.resize(crop,(512,512))\n",
    "                        a=cv2.addWeighted(img,4,cv2.GaussianBlur(img,(0,0),scale/30),-4,128)\n",
    "                        b=np.zeros(a.shape)\n",
    "                        cv2.circle(b,(a.shape[1]//2,a.shape[0]//2),\n",
    "                        int(scale*0.9),(1,1,1), -1,8,0)\n",
    "                        a=a*b+128*(1-b)\n",
    "                        print(imgpath)\n",
    "                        cv2.imwrite(imgpath,a)\n",
    "                        cv2.waitKey(0)  \n",
    "                        #print(str(i))\n",
    "                        i = i+1 \t\t    \n",
    "                    except:\n",
    "                        pass"
   ]
  }
 ],
 "metadata": {
  "kernelspec": {
   "display_name": "Python 3",
   "language": "python",
   "name": "python3"
  },
  "language_info": {
   "codemirror_mode": {
    "name": "ipython",
    "version": 3
   },
   "file_extension": ".py",
   "mimetype": "text/x-python",
   "name": "python",
   "nbconvert_exporter": "python",
   "pygments_lexer": "ipython3",
   "version": "3.7.0"
  }
 },
 "nbformat": 4,
 "nbformat_minor": 4
}
